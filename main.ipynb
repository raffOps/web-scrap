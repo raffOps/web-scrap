{
 "cells": [
  {
   "cell_type": "code",
   "execution_count": 15,
   "metadata": {},
   "outputs": [],
   "source": [
    "import requests as req\n",
    "from bs4 import BeautifulSoup as bs\n",
    "import pandas as pd\n",
    "import time\n",
    "import sqlite3 as sqlt\n",
    "import time \n",
    "from itertools import cycle\n",
    "import random"
   ]
  },
  {
   "cell_type": "code",
   "execution_count": 15,
   "metadata": {},
   "outputs": [],
   "source": [
    "user_agent_list = [\n",
    "   #Chrome\n",
    "    'Mozilla/5.0 (Windows NT 10.0; Win64; x64) AppleWebKit/537.36 (KHTML, like Gecko) Chrome/60.0.3112.113 Safari/537.36',\n",
    "    'Mozilla/5.0 (Windows NT 6.1; Win64; x64) AppleWebKit/537.36 (KHTML, like Gecko) Chrome/60.0.3112.90 Safari/537.36',\n",
    "    'Mozilla/5.0 (Windows NT 5.1; Win64; x64) AppleWebKit/537.36 (KHTML, like Gecko) Chrome/60.0.3112.90 Safari/537.36',\n",
    "    'Mozilla/5.0 (Windows NT 6.2; Win64; x64) AppleWebKit/537.36 (KHTML, like Gecko) Chrome/60.0.3112.90 Safari/537.36',\n",
    "    'Mozilla/5.0 (X11; Linux x86_64) AppleWebKit/537.36 (KHTML, like Gecko) Chrome/44.0.2403.157 Safari/537.36',\n",
    "    'Mozilla/5.0 (Windows NT 6.3; Win64; x64) AppleWebKit/537.36 (KHTML, like Gecko) Chrome/60.0.3112.113 Safari/537.36',\n",
    "    'Mozilla/5.0 (Windows NT 10.0; Win64; x64) AppleWebKit/537.36 (KHTML, like Gecko) Chrome/57.0.2987.133 Safari/537.36',\n",
    "    'Mozilla/5.0 (Windows NT 6.1; Win64; x64) AppleWebKit/537.36 (KHTML, like Gecko) Chrome/57.0.2987.133 Safari/537.36',\n",
    "    'Mozilla/5.0 (Windows NT 10.0; Win64; x64) AppleWebKit/537.36 (KHTML, like Gecko) Chrome/55.0.2883.87 Safari/537.36',\n",
    "    'Mozilla/5.0 (Windows NT 6.1; Win64; x64) AppleWebKit/537.36 (KHTML, like Gecko) Chrome/55.0.2883.87 Safari/537.36',\n",
    "    #Firefox\n",
    "    'Mozilla/4.0 (compatible; MSIE 9.0; Windows NT 6.1)',\n",
    "    'Mozilla/5.0 (Windows NT 6.1; WOW64; Trident/7.0; rv:11.0) like Gecko',\n",
    "    'Mozilla/5.0 (compatible; MSIE 9.0; Windows NT 6.1; WOW64; Trident/5.0)',\n",
    "    'Mozilla/5.0 (Windows NT 6.1; Trident/7.0; rv:11.0) like Gecko',\n",
    "    'Mozilla/5.0 (Windows NT 6.2; WOW64; Trident/7.0; rv:11.0) like Gecko',\n",
    "    'Mozilla/5.0 (Windows NT 10.0; WOW64; Trident/7.0; rv:11.0) like Gecko',\n",
    "    'Mozilla/5.0 (compatible; MSIE 9.0; Windows NT 6.0; Trident/5.0)',\n",
    "    'Mozilla/5.0 (Windows NT 6.3; WOW64; Trident/7.0; rv:11.0) like Gecko',\n",
    "    'Mozilla/5.0 (compatible; MSIE 9.0; Windows NT 6.1; Trident/5.0)',\n",
    "    'Mozilla/5.0 (Windows NT 6.1; Win64; x64; Trident/7.0; rv:11.0) like Gecko',\n",
    "    'Mozilla/5.0 (compatible; MSIE 10.0; Windows NT 6.1; WOW64; Trident/6.0)',\n",
    "    'Mozilla/5.0 (compatible; MSIE 10.0; Windows NT 6.1; Trident/6.0)',\n",
    "    'Mozilla/4.0 (compatible; MSIE 8.0; Windows NT 5.1; Trident/4.0; .NET CLR 2.0.50727; .NET CLR 3.0.4506.2152; .NET CLR 3.5.30729)'\n",
    "]"
   ]
  },
  {
   "cell_type": "code",
   "execution_count": 137,
   "metadata": {},
   "outputs": [],
   "source": [
    "def get_dados_movida(con, cursor, inserir_dados):\n",
    "    url = \"https://busca.movidaseminovos.com.br/filtros/class/usado?sort=11&page={}\"\n",
    "    indice_pagina = 1\n",
    "    dados = {}\n",
    "    #proxies = cycle(get_proxies())\n",
    "    while True:\n",
    "        #proxy = next(proxies)\n",
    "        #proxy_dict = {\"http\": proxy, \"https\": proxy}\n",
    "        #headers = {'User-Agent': random.choice(user_agent_list)}\n",
    "        #headers = {'User-Agent':random.choice(user_agent_list)}\n",
    "        #r = req.get(url.format(indice_pagina),headers=headers)\n",
    "        r = req.get(url.format(indice_pagina))\n",
    "        #print(r.request.headers)\n",
    "        #print(\"\\n\")\n",
    "        soup = bs(r.text, \"lxml\")\n",
    "        if soup.find_all(class_ = \"nm-not-found-message\"):\n",
    "            r.close()\n",
    "            break\n",
    "        for carro in soup.find_all(class_ = \"nm-product-info\"):\n",
    "            dados[\"Empresa\"] = \"Movidas\"\n",
    "            texto = list(carro.stripped_strings)\n",
    "            dados[\"Modelo\"] = texto[0]\n",
    "            dados[\"Preco\"] = texto[1][3:].replace(\".\",\"\").replace(\",\",\".\")\n",
    "            dados[\"Kilometragem\"] = texto[2]\n",
    "            dados[\"Ano\"] = texto[4]\n",
    "            cursor.execute(inserir_dados.format(**dados))\n",
    "        indice_pagina = indice_pagina + 1\n",
    "        time.sleep(1.2)\n",
    "        con.commit()"
   ]
  },
  {
   "cell_type": "code",
   "execution_count": 138,
   "metadata": {},
   "outputs": [],
   "source": [
    "def get_dados_unidas(con, cursor, inserir_dados):\n",
    "    url = \"https://www.seminovosunidas.com.br/veiculos/page:{}?\" + \\\n",
    "        \"utm_source=afilio&utm_medium=display&utm_campaign=maio&utm_content\" + \\\n",
    "        \"=ron_ambos&utm_term=120x600_promocaomaio_performance_-_-\"\n",
    "    indice_pagina = 1\n",
    "    dados = {}\n",
    "    while True:\n",
    "        #headers = {'User-Agent':random.choice(user_agent_list)}\n",
    "        r = req.get(url.format(indice_pagina))\n",
    "        soup = bs(r.text, \"lxml\")\n",
    "        pagina_atual = list(soup.find(class_=\"active number\").stripped_strings)[0]\n",
    "        if indice_pagina >= 2 and pagina_atual == '1': \n",
    "            r.close()\n",
    "            break\n",
    "        lista1 = soup.find_all(class_=\"vehicleDescription\")\n",
    "        lista2 = soup.find_all(class_=\"valor\")\n",
    "        for carro, valor in zip(lista1,lista2):\n",
    "            texto = list(carro.stripped_strings)\n",
    "            dados[\"Empresa\"] = \"Unidas\"\n",
    "            dados[\"Modelo\"] = texto[2]\n",
    "            dados[\"Preco\"] = valor.text.replace(\".\",\"\").replace(\",\",\".\")\n",
    "            dados[\"Kilometragem\"] = texto[4].split(\",\")[1][5:]\n",
    "            dados[\"Ano\"] = texto[3][-5:-1]\n",
    "            cursor.execute(inserir_dados.format(**dados))\n",
    "        con.commit()\n",
    "        indice_pagina += 1       "
   ]
  },
  {
   "cell_type": "code",
   "execution_count": 139,
   "metadata": {},
   "outputs": [],
   "source": [
    "def get_dados_locamerica(con, cursor, inserir_dados):\n",
    "    url = \"https://seminovos.locamerica.com.br/veiculos.json?marca=&modelo=&cambio=&com\" + \\\n",
    "        \"bustivel=&cor=&acessorios=&por_pagina=36&per_page={}&anode=0&precode=17990\" + \\\n",
    "        \"00&precoate=13499000\"\n",
    "        \n",
    "    indice_pagina = 1\n",
    "    dados = {}\n",
    "    while True:\n",
    "        r = req.get(url.format(indice_pagina))\n",
    "        info = r.json()['veiculos']\n",
    "        site_decodificado = base64.b64decode(info)\n",
    "        soup = bs(site_decodificado, \"lxml\")\n",
    "        if not soup.find(class_=\"clearfix\"):\n",
    "            r.close()\n",
    "            break\n",
    "        for carro in soup.find_all(class_=\"item-carro\"):\n",
    "            texto = list(carro.stripped_strings)\n",
    "            dados[\"Empresa\"] = \"Locamerica\"\n",
    "            preco = carro.find(class_= \"preco\").h4.text\n",
    "            dados[\"Preco\"] = preco.replace(\".\",\"\").replace(\",\",\".\")\n",
    "            dados[\"Modelo\"] = texto[1]\n",
    "            dados[\"Ano\"] = texto[3].split(\"/\")[0]\n",
    "            kilometragem = texto[7].split()[0]\n",
    "            if kilometragem.count(\".\") > 1: # maior que 1000 KMs\n",
    "                kilometragem = kilometragem.replace(\".\",\"\",1) # tira o primeiro \".\"\n",
    "            if kilometragem == '-':\n",
    "                dados[\"Kilometragem\"] = 0\n",
    "            else:\n",
    "                dados[\"Kilometragem\"] = kilometragem\n",
    "            cursor.execute(inserir_dados.format(**dados))\n",
    "        con.commit()\n",
    "        indice_pagina += 1  \n",
    "    \n",
    "    \n",
    "    \n",
    "    "
   ]
  },
  {
   "cell_type": "code",
   "execution_count": 140,
   "metadata": {},
   "outputs": [
    {
     "name": "stdout",
     "output_type": "stream",
     "text": [
      "445.61708068847656\n"
     ]
    }
   ],
   "source": [
    "with sqlt.connect(\"seminovos.db\") as con:\n",
    "    cursor = con.cursor()\n",
    "    criar_tabela_sql = \"\"\"\n",
    "    CREATE TABLE vendas \n",
    "    (  \n",
    "     ID INTEGER PRIMARY KEY AUTOINCREMENT,  \n",
    "     Empresa VARCHAR (20) NOT NULL,  \n",
    "     Modelo  VARCHAR(40) NOT NULL,  \n",
    "     Preco REAL NOT NULL,\n",
    "     Kilometragem REAL NOT NULL,\n",
    "     Ano NUMERIC(4,0) NOT NULL\n",
    "    );  \n",
    "    \"\"\"\n",
    "\n",
    "    cursor.execute(criar_tabela_sql)\n",
    "\n",
    "    inserir_dados_sql = \"\"\"\n",
    "    INSERT INTO vendas (Empresa, Modelo, Preco, Kilometragem, Ano) \n",
    "    VALUES (\"{Empresa}\",\"{Modelo}\", {Preco},{Kilometragem},{Ano})\n",
    "    \"\"\"\n",
    "    inicio = time.time()\n",
    "    get_dados_movida(con,cursor,inserir_dados_sql)\n",
    "    get_dados_unidas(con, cursor, inserir_dados_sql)\n",
    "    get_dados_locamerica(con, cursor, inserir_dados_sql)\n",
    "    print(time.time() - inicio)"
   ]
  },
  {
   "cell_type": "code",
   "execution_count": 2,
   "metadata": {},
   "outputs": [
    {
     "name": "stdout",
     "output_type": "stream",
     "text": [
      "{'User-Agent': 'python-requests/2.18.4', 'Accept-Encoding': 'gzip, deflate', 'Accept': '*/*', 'Connection': 'keep-alive'}\n",
      "{'Preco': '25950', 'Modelo': 'CELTA LT 1.0', 'Ano': '2013', 'Kilometragem': '42.021'}\n",
      "##################################\n",
      "{'Preco': '25970', 'Modelo': 'CELTA LT 1.0', 'Ano': '2014', 'Kilometragem': '48.468'}\n",
      "##################################\n",
      "{'Preco': '29470', 'Modelo': 'PALIO FIRE 1.0 4P', 'Ano': '2015', 'Kilometragem': '59.556'}\n",
      "##################################\n",
      "{'Preco': '29550', 'Modelo': 'NOVO UNO VIVACE', 'Ano': '2014', 'Kilometragem': '24.300'}\n",
      "##################################\n",
      "{'Preco': '30090', 'Modelo': 'PALIO FIRE 1.0 4P', 'Ano': '2015', 'Kilometragem': '30.620'}\n",
      "##################################\n",
      "{'Preco': '31220', 'Modelo': 'NOVO UNO VIVACE', 'Ano': '2015', 'Kilometragem': '42.584'}\n",
      "##################################\n",
      "{'Preco': '31330', 'Modelo': 'GOL 1.6', 'Ano': '2014', 'Kilometragem': '82.435'}\n",
      "##################################\n",
      "{'Preco': '31690', 'Modelo': 'GOL TRENDLINE 1.0', 'Ano': '2015', 'Kilometragem': '35.081'}\n",
      "##################################\n",
      "{'Preco': '32050', 'Modelo': 'SAVEIRO STARTLINE', 'Ano': '2015', 'Kilometragem': '35.637'}\n",
      "##################################\n",
      "{'Preco': '32310', 'Modelo': 'GOL 1.6', 'Ano': '2014', 'Kilometragem': '69.683'}\n",
      "##################################\n",
      "pagina 2\n",
      "###################################\n",
      "{'User-Agent': 'python-requests/2.18.4', 'Accept-Encoding': 'gzip, deflate', 'Accept': '*/*', 'Connection': 'keep-alive', 'Content-Length': '73', 'Content-Type': 'application/x-www-form-urlencoded'}\n",
      "{'Preco': '25950', 'Modelo': 'CELTA LT 1.0', 'Ano': '2013', 'Kilometragem': '42.021'}\n",
      "##################################\n",
      "{'Preco': '25970', 'Modelo': 'CELTA LT 1.0', 'Ano': '2014', 'Kilometragem': '48.468'}\n",
      "##################################\n",
      "{'Preco': '29470', 'Modelo': 'PALIO FIRE 1.0 4P', 'Ano': '2015', 'Kilometragem': '59.556'}\n",
      "##################################\n",
      "{'Preco': '29550', 'Modelo': 'NOVO UNO VIVACE', 'Ano': '2014', 'Kilometragem': '24.300'}\n",
      "##################################\n",
      "{'Preco': '30090', 'Modelo': 'PALIO FIRE 1.0 4P', 'Ano': '2015', 'Kilometragem': '30.620'}\n",
      "##################################\n",
      "{'Preco': '31220', 'Modelo': 'NOVO UNO VIVACE', 'Ano': '2015', 'Kilometragem': '42.584'}\n",
      "##################################\n",
      "{'Preco': '31330', 'Modelo': 'GOL 1.6', 'Ano': '2014', 'Kilometragem': '82.435'}\n",
      "##################################\n",
      "{'Preco': '31690', 'Modelo': 'GOL TRENDLINE 1.0', 'Ano': '2015', 'Kilometragem': '35.081'}\n",
      "##################################\n",
      "{'Preco': '32050', 'Modelo': 'SAVEIRO STARTLINE', 'Ano': '2015', 'Kilometragem': '35.637'}\n",
      "##################################\n",
      "{'Preco': '32310', 'Modelo': 'GOL 1.6', 'Ano': '2014', 'Kilometragem': '69.683'}\n",
      "##################################\n"
     ]
    }
   ],
   "source": [
    "url = \"https://seminovos.localiza.com/Paginas/resultado-busca.aspx?ct=4365_2002_8466_8607_8655_4389_2604_2612_8096_1734_4720_8719_3970_7267_7300_2826_8146_5758_6667_565_8167_1307_2108_7478_8875_2372_6698_8220_4777_8234_3159_8987_6018_108_4498_9040_6057_9061_6974_6744_6749_9123_7690_9185_7719_5210_6797_957_9317_9328_9332_9352_7876_2453_9362_1968_9391_9420_5454_3873_3874_4337_1987_1081_6875&st=AL_BA_CE_DF_ES_GO_MA_MG_MS_MT_PA_PB_PE_PI_PR_RJ_RN_RS_SC_SE_SP&yr=2013_2018&pc=20000_425000&fb=W_X_T_%u00d4_A_D_C_L_1_8_F_M_U_O_R_G_B&md=000192_000097_000148_000147_000136_000119_000137_000120_000729_001061_000132_000632_000699_000122_000041_000286_000772_000719_000180_000181_000179_000715_000736_000854_000748_001076_000334_000250_000333_000330_000332_000369_000424_000545_000511_000488_000408_000418_000510_000513_000391_000211_000431_001083_000325_000326_000344_000456_000451_000455_000458_000505_000506_000502_000805_000426_000427_000623_000726_000718_000119_000132_000694_000788_000828_000005_000484_000478_000481_000476_000473_000477_001017_001016_000356_000357_000319_000317_000297_000298_000354_000123_000780_000859_000138_001006_000614_000867_000858_000675_000139_000165_000171_000174_000039_000020_000022_000019_000747_000320_000365_000311_000355_000312_000313_000322_000342_000353_000362_000314_000699_000696_000114_000779_000781_000755_000807_000806_001084_000529_001063_001098_000667_001036_001077_000133_000143_000658_000705_000707_000047\"\n",
    "r = req.get(url)\n",
    "print(r.request.headers)\n",
    "soup = bs(r.text,\"lxml\")\n",
    "valores = soup.find_all(class_=\"busca-right-container\")\n",
    "carros = soup.find_all(class_=\"busca-left-container\")\n",
    "for carro, valor in zip(carros, valores): \n",
    "    dados = {}\n",
    "    dados[\"Preco\"] = list(valor.stripped_strings)[0][3:].replace(\".\",\"\")\n",
    "    texto = list(carro.stripped_strings)\n",
    "    dados[\"Modelo\"] = texto[0]\n",
    "    dados[\"Ano\"] = texto[1].split(\"/\")[0]\n",
    "    dados[\"Kilometragem\"] = texto[2]\n",
    "    print(dados)\n",
    "    print(\"##################################\")\n",
    "print(\"pagina 2\")\n",
    "print(\"###################################\")\n",
    "payload = {\"ctl00$ctl42$g_f221d036_75d3_4ee2_893d_0d7b40180245$hdnPaginaAtual\": 2}\n",
    "r = req.post(url, data = payload)\n",
    "print(r.request.headers)\n",
    "soup = bs(r.text,\"lxml\")\n",
    "valores = soup.find_all(class_=\"busca-right-container\")\n",
    "carros = soup.find_all(class_=\"busca-left-container\")\n",
    "for carro, valor in zip(carros, valores): \n",
    "    dados = {}\n",
    "    dados[\"Preco\"] = list(valor.stripped_strings)[0][3:].replace(\".\",\"\")\n",
    "    texto = list(carro.stripped_strings)\n",
    "    dados[\"Modelo\"] = texto[0]\n",
    "    dados[\"Ano\"] = texto[1].split(\"/\")[0]\n",
    "    dados[\"Kilometragem\"] = texto[2]\n",
    "    print(dados)\n",
    "    print(\"##################################\")\n",
    "    \n"
   ]
  },
  {
   "cell_type": "code",
   "execution_count": 128,
   "metadata": {},
   "outputs": [
    {
     "data": {
      "text/plain": [
       "2"
      ]
     },
     "execution_count": 128,
     "metadata": {},
     "output_type": "execute_result"
    }
   ],
   "source": [
    "'1.045.208'.count(\".\")"
   ]
  },
  {
   "cell_type": "code",
   "execution_count": 131,
   "metadata": {},
   "outputs": [
    {
     "data": {
      "text/plain": [
       "'1045.208'"
      ]
     },
     "execution_count": 131,
     "metadata": {},
     "output_type": "execute_result"
    }
   ],
   "source": [
    "'1.045.208'.replace(\".\",\"\",1)"
   ]
  },
  {
   "cell_type": "code",
   "execution_count": 117,
   "metadata": {},
   "outputs": [],
   "source": [
    "a = \"-\""
   ]
  },
  {
   "cell_type": "code",
   "execution_count": 123,
   "metadata": {},
   "outputs": [
    {
     "ename": "SyntaxError",
     "evalue": "invalid syntax (<ipython-input-123-d773e7f4f962>, line 1)",
     "traceback": [
      "\u001b[0;36m  File \u001b[0;32m\"<ipython-input-123-d773e7f4f962>\"\u001b[0;36m, line \u001b[0;32m1\u001b[0m\n\u001b[0;31m    a = 1.045.208\u001b[0m\n\u001b[0m                ^\u001b[0m\n\u001b[0;31mSyntaxError\u001b[0m\u001b[0;31m:\u001b[0m invalid syntax\n"
     ],
     "output_type": "error"
    }
   ],
   "source": [
    "a = 1.045.208"
   ]
  },
  {
   "cell_type": "code",
   "execution_count": null,
   "metadata": {},
   "outputs": [],
   "source": [
    "\"rafa\"."
   ]
  }
 ],
 "metadata": {
  "kernelspec": {
   "display_name": "Python 3",
   "language": "python",
   "name": "python3"
  },
  "language_info": {
   "codemirror_mode": {
    "name": "ipython",
    "version": 3
   },
   "file_extension": ".py",
   "mimetype": "text/x-python",
   "name": "python",
   "nbconvert_exporter": "python",
   "pygments_lexer": "ipython3",
   "version": "3.6.4"
  }
 },
 "nbformat": 4,
 "nbformat_minor": 1
}
